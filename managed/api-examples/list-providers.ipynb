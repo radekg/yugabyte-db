{
 "cells": [
  {
   "cell_type": "markdown",
   "source": [
    "* Import packages.\n",
    "* Define platform API endpoint (modify for your environment).\n",
    "* Define platform API key (found on user page).\n",
    "* Create platform API client."
   ],
   "metadata": {}
  },
  {
   "cell_type": "code",
   "execution_count": null,
   "source": [
    "import os\n",
    "import yb_platform_client\n",
    "from yb_platform_client.api import provider_api, session_api\n",
    "from yb_platform_client.model.provider import Provider\n",
    "from yb_platform_client.model.session_info import SessionInfo\n",
    "\n",
    "platform_address = 'http://localhost:9000'\n",
    "platform_api_key = os.getenv('YB_API_KEY')\n",
    "\n",
    "api_client = yb_platform_client.ApiClient(yb_platform_client.Configuration(\n",
    "    host = platform_address,\n",
    "    api_key = {\n",
    "        'apiKeyAuth': platform_api_key,\n",
    "    }\n",
    "))"
   ],
   "outputs": [],
   "metadata": {}
  },
  {
   "cell_type": "markdown",
   "source": [
    "Make an API call to session endpoint to determine customer UUID."
   ],
   "metadata": {}
  },
  {
   "cell_type": "code",
   "execution_count": null,
   "source": [
    "session_api = session_api.SessionApi(api_client)\n",
    "\n",
    "try:\n",
    "    session_info = session_api.get_session_info()\n",
    "except yb_platform_client.ApiException as e:\n",
    "    print(\"Error get_session_info: %s\" % e)\n",
    "    raise\n",
    "\n",
    "customer_uuid = session_info.get('customer_uuid')\n",
    "print('Customer UUID:\\n%s' % customer_uuid)"
   ],
   "outputs": [],
   "metadata": {}
  },
  {
   "cell_type": "markdown",
   "source": [
    "Make API call to provider endpoint to list providers."
   ],
   "metadata": {}
  },
  {
   "cell_type": "code",
   "execution_count": null,
   "source": [
    "provider_api = provider_api.ProviderApi(api_client)\n",
    "\n",
    "try:\n",
    "    provider_list = provider_api.get_list_of_providers(customer_uuid)\n",
    "except yb_platform_client.ApiException as e:\n",
    "    print('Error get_list_of_providers: %s' % e)\n",
    "    raise\n",
    "\n",
    "print('Providers:\\n%s' % provider_list)"
   ],
   "outputs": [],
   "metadata": {}
  }
 ],
 "metadata": {
  "interpreter": {
   "hash": "57f28aa4ce40fd00633621e172c0b6004aa3a4c49cc0dd486e1853a51500889f"
  },
  "kernelspec": {
   "name": "python3",
   "display_name": "Python 3.8.10 64-bit ('venv')"
  },
  "language_info": {
   "codemirror_mode": {
    "name": "ipython",
    "version": 3
   },
   "file_extension": ".py",
   "mimetype": "text/x-python",
   "name": "python",
   "nbconvert_exporter": "python",
   "pygments_lexer": "ipython3",
   "version": "3.8.10"
  }
 },
 "nbformat": 4,
 "nbformat_minor": 5
}
