{
 "cells": [
  {
   "cell_type": "markdown",
   "source": [
    "* Import packages.\n",
    "* Define platform API endpoint (modify for your environment).\n",
    "* Define platform API key (found on user page).\n",
    "* Create platform API client."
   ],
   "metadata": {}
  },
  {
   "cell_type": "code",
   "execution_count": null,
   "source": [
    "import os\n",
    "import yb_platform_client\n",
    "from yb_platform_client.api import provider_api, session_api\n",
    "from yb_platform_client.model.provider import Provider\n",
    "from yb_platform_client.model.region import Region\n",
    "from pprint import pprint\n",
    "\n",
    "platform_address = 'http://localhost:9000'\n",
    "platform_api_key = os.getenv('YB_API_KEY')\n",
    "\n",
    "api_client = yb_platform_client.ApiClient(yb_platform_client.Configuration(\n",
    "    host = platform_address,\n",
    "    api_key = {\n",
    "        'apiKeyAuth': platform_api_key,\n",
    "    }\n",
    "))"
   ],
   "outputs": [],
   "metadata": {}
  },
  {
   "cell_type": "markdown",
   "source": [
    "Make an API call to session endpoint to determine customer UUID."
   ],
   "metadata": {}
  },
  {
   "cell_type": "code",
   "execution_count": null,
   "source": [
    "session_api = session_api.SessionApi(api_client)\n",
    "\n",
    "try:\n",
    "    session_info = session_api.get_session_info()\n",
    "except yb_platform_client.ApiException as e:\n",
    "    print(\"Error get_session_info: %s\" % e)\n",
    "    raise\n",
    "\n",
    "customer_uuid = session_info.get('customer_uuid')\n",
    "print('Customer UUID:\\n%s' % customer_uuid)"
   ],
   "outputs": [],
   "metadata": {}
  },
  {
   "cell_type": "markdown",
   "source": [
    "Define new provider object."
   ],
   "metadata": {}
  },
  {
   "cell_type": "code",
   "execution_count": null,
   "source": [
    "new_provider = Provider(\n",
    "    air_gap_install=False,\n",
    "    code=\"gcp\",\n",
    "    config={\n",
    "        \"GCE_EMAIL\": \"<service acct email>\",\n",
    "        \"GCE_HOST_PROJECT\": \"<gcp project>\",\n",
    "        \"GCE_PROJECT\": \"<gcp project>\",\n",
    "        \"YB_FIREWALL_TAGS\": \"<vpc tags>\",\n",
    "        \"auth_provider_x509_cert_url\": \"https://www.googleapis.com/oauth2/v1/certs\",\n",
    "        \"auth_uri\": \"https://accounts.google.com/o/oauth2/auth\",\n",
    "        \"client_email\": \"<service account email>\",\n",
    "        \"client_id\": \"<service account id>\",\n",
    "        \"client_x509_cert_url\": \"<service account cert url>\",\n",
    "        \"private_key\": \"<service account key>\",\n",
    "        \"private_key_id\": \"<service account key id>\",\n",
    "        \"project_id\": \"<gcp project>\",\n",
    "        \"token_uri\": \"https://accounts.google.com/o/oauth2/token\",\n",
    "        \"type\": \"service_account\",\n",
    "    },\n",
    "    dest_vpc_id=\"yugabyte-network\",\n",
    "    name=\"api-test\",\n",
    "    regions=[\n",
    "        Region(\n",
    "            code=\"us-central1\",\n",
    "            name=\"us-central1\",\n",
    "            zones=[],\n",
    "        ),\n",
    "    ],\n",
    "    ssh_port=54422,\n",
    ")"
   ],
   "outputs": [],
   "metadata": {}
  },
  {
   "cell_type": "markdown",
   "source": [
    "Make API call to provider endpoint to create new provider."
   ],
   "metadata": {}
  },
  {
   "cell_type": "code",
   "execution_count": null,
   "source": [
    "provider_api = provider_api.ProviderApi(api_client)\n",
    "\n",
    "try:\n",
    "    api_response = provider_api.create_providers(customer_uuid, new_provider)\n",
    "except yb_platform_client.ApiException as e:\n",
    "    print('Error create_providers: %s' % e)\n",
    "    raise\n",
    "\n",
    "pprint(api_response)"
   ],
   "outputs": [],
   "metadata": {}
  }
 ],
 "metadata": {
  "kernelspec": {
   "name": "python3",
   "display_name": "Python 3.8.10 64-bit ('venv')"
  },
  "language_info": {
   "codemirror_mode": {
    "name": "ipython",
    "version": 3
   },
   "file_extension": ".py",
   "mimetype": "text/x-python",
   "name": "python",
   "nbconvert_exporter": "python",
   "pygments_lexer": "ipython3",
   "version": "3.8.10"
  },
  "interpreter": {
   "hash": "57f28aa4ce40fd00633621e172c0b6004aa3a4c49cc0dd486e1853a51500889f"
  }
 },
 "nbformat": 4,
 "nbformat_minor": 5
}
